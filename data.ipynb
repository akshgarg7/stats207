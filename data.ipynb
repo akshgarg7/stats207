{
 "cells": [
  {
   "cell_type": "code",
   "execution_count": 1,
   "metadata": {},
   "outputs": [],
   "source": [
    "import pandas as pd  "
   ]
  },
  {
   "cell_type": "code",
   "execution_count": 2,
   "metadata": {},
   "outputs": [],
   "source": [
    "barley_csv = pd.read_csv('data/barley.csv')\n",
    "maize_csv = pd.read_csv('data/maize.csv')\n",
    "soy_csv = pd.read_csv('data/soy.csv')\n",
    "wheat_csv = pd.read_csv('data/wheat.csv')\n"
   ]
  },
  {
   "cell_type": "code",
   "execution_count": 3,
   "metadata": {},
   "outputs": [],
   "source": [
    "barley_csv = barley_csv.rename(columns={'PBARLUSDM': 'barley'})\n",
    "maize_csv = maize_csv.rename(columns={'PMAIZMTUSDM': 'maize'})\n",
    "soy_csv = soy_csv.rename(columns={'PSOYBUSDM': 'soy'})\n",
    "wheat_csv = wheat_csv.rename(columns={'PWHEAMTUSDM': 'wheat'})"
   ]
  },
  {
   "cell_type": "code",
   "execution_count": 4,
   "metadata": {},
   "outputs": [],
   "source": [
    "merged_df = pd.merge(barley_csv, maize_csv, on='DATE', how='inner') \n",
    "merged_df = pd.merge(merged_df, soy_csv, on='DATE', how='inner') \n",
    "merged_df = pd.merge(merged_df, wheat_csv, on='DATE', how='inner') \n",
    "merged_df.to_csv('merged_data.csv', index=False)"
   ]
  },
  {
   "cell_type": "code",
   "execution_count": null,
   "metadata": {},
   "outputs": [],
   "source": []
  }
 ],
 "metadata": {
  "kernelspec": {
   "display_name": "Python 3",
   "language": "python",
   "name": "python3"
  },
  "language_info": {
   "codemirror_mode": {
    "name": "ipython",
    "version": 3
   },
   "file_extension": ".py",
   "mimetype": "text/x-python",
   "name": "python",
   "nbconvert_exporter": "python",
   "pygments_lexer": "ipython3",
   "version": "3.7.11"
  }
 },
 "nbformat": 4,
 "nbformat_minor": 2
}
