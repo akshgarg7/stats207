{
 "cells": [
  {
   "cell_type": "code",
   "execution_count": 1,
   "metadata": {},
   "outputs": [],
   "source": [
    "import pandas as pd  \n"
   ]
  },
  {
   "cell_type": "code",
   "execution_count": 2,
   "metadata": {},
   "outputs": [],
   "source": [
    "barley_csv = pd.read_csv('PBARLUSDM.csv')\n",
    "maize_csv = pd.read_csv('PMAIZMTUSDM.csv')\n",
    "soy_csv = pd.read_csv('PSOYBUSDM.csv')\n",
    "wheat_csv = pd.read_csv('PWHEAMTUSDM.csv')"
   ]
  },
  {
   "cell_type": "code",
   "execution_count": 9,
   "metadata": {},
   "outputs": [],
   "source": [
    "barley_csv = barley_csv.rename(columns={'PBARLUSDM': 'barley'})\n",
    "maize_csv = maize_csv.rename(columns={'PMAIZMTUSDM': 'maize'})\n",
    "soy_csv = soy_csv.rename(columns={'PSOYBUSDM': 'soy'})\n",
    "wheat_csv = wheat_csv.rename(columns={'PWHEAMTUSDM': 'wheat'})"
   ]
  },
  {
   "cell_type": "code",
   "execution_count": 14,
   "metadata": {},
   "outputs": [],
   "source": [
    "merged_df = pd.merge(barley_csv, maize_csv, on='DATE', how='inner') \n",
    "merged_df = pd.merge(merged_df, soy_csv, on='DATE', how='inner') \n",
    "merged_df = pd.merge(merged_df, wheat_csv, on='DATE', how='inner') \n",
    "merged_df.to_csv('merged_data.csv', index=False)"
   ]
  }
 ],
 "metadata": {
  "kernelspec": {
   "display_name": "Python 3",
   "language": "python",
   "name": "python3"
  },
  "language_info": {
   "codemirror_mode": {
    "name": "ipython",
    "version": 3
   },
   "file_extension": ".py",
   "mimetype": "text/x-python",
   "name": "python",
   "nbconvert_exporter": "python",
   "pygments_lexer": "ipython3",
   "version": "3.7.11"
  }
 },
 "nbformat": 4,
 "nbformat_minor": 2
}
